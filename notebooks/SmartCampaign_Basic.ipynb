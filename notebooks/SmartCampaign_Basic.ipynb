{
 "cells": [
  {
   "cell_type": "markdown",
   "metadata": {},
   "source": [
    "# SmartCampaingBase \n",
    "\n",
    "Basic campaign which allows change alpha and campaign risk adjustment metrics, but doesn't support alpha rebalancing / weighting."
   ]
  },
  {
   "cell_type": "code",
   "execution_count": 1,
   "metadata": {
    "collapsed": false
   },
   "outputs": [],
   "source": [
    "%load_ext autoreload\n",
    "%autoreload 2"
   ]
  },
  {
   "cell_type": "code",
   "execution_count": 2,
   "metadata": {
    "collapsed": false
   },
   "outputs": [
    {
     "name": "stdout",
     "output_type": "stream",
     "text": [
      "Populating the interactive namespace from numpy and matplotlib\n"
     ]
    }
   ],
   "source": [
    "import pandas as pd\n",
    "import numpy as np\n",
    "%pylab inline"
   ]
  },
  {
   "cell_type": "markdown",
   "metadata": {},
   "source": [
    "## Smart campaign definition"
   ]
  },
  {
   "cell_type": "code",
   "execution_count": 3,
   "metadata": {
    "collapsed": true
   },
   "outputs": [],
   "source": [
    "CAMPAIGN_DICT = {\n",
    "    'name': \"BasicSmartCampaign\",\n",
    "    \n",
    "    # Allowed values for both ALPHA_RISK_TYPE and CAMPAIGN_RISK_TYPE\n",
    "\n",
    "    # 'atr' - ATR(RISK_PERIOD) of alpha/campaign equity risk metric\n",
    "    # 'atrmax' - Highest(ATR(RISK_PERIOD)) of alpha/campaign equity risk metric\n",
    "    # 'ddavg' - rolling mean (RISK_PERIOD) of drawdown of alpha/campaign equity \n",
    "    # 'ddmax' - rolling maximum (RISK_PERIOD) of drawdown of alpha/campaign equity\n",
    "    # 'ddq95' - rolling 95% quantile (RISK_PERIOD) of drawdown of alpha/campaign equity    \n",
    "    'alpha_risk_type': 'atr',\n",
    "    'alpha_risk_period': 100,\n",
    "    'alpha_min_risk': 100,\n",
    "\n",
    "    'campaign_risk_type': 'atrmax',\n",
    "    'campaign_risk_period': 100,\n",
    "    'campaign_min_risk': 100,\n",
    "    \n",
    "    #\n",
    "    # Campaign definition\n",
    "    #\n",
    "    'alphas': {\n",
    "        # Single alphas\n",
    "        '!NEW_AlphaV1Exposure_HedgedBy_V2_US_ZN_EXO_PutSpread_DynKel_longs_DSP_BandPass__Bullish_2_Sept_7_21': {'tag': ''},\n",
    "        \n",
    "        # !! Risk reversal stack V1 + V2\n",
    "        'ZN_ContFut_Long_Strategy_DSP_BandPass__Bullish_2_Sept_7__hedged': {\n",
    "            'tag': '',\n",
    "            'alphas': {\n",
    "                'ZN_ContFut_Long_Strategy_DSP_BandPass__Bullish_2_Sept_7_custom': 1.0,\n",
    "                '!NEW_AlphaV1Exposure_HedgedBy_V2_US_ZN_EXOSemiFuture_DynKel_20_60_longs_DSP_BandPass__Bullish_2_Sept_7_Oct_6': 1.0,\n",
    "            }\n",
    "        }\n",
    "    }\n",
    "}"
   ]
  },
  {
   "cell_type": "markdown",
   "metadata": {},
   "source": [
    "### Loading smart campaign alphas"
   ]
  },
  {
   "cell_type": "code",
   "execution_count": 4,
   "metadata": {
    "collapsed": false
   },
   "outputs": [],
   "source": [
    "import pandas as pd\n",
    "from smartcampaign import SmartCampaignBase\n",
    "from smartcampaign.tools import *\n",
    "import os\n",
    "\n",
    "#\n",
    "# Init V1 framework datasource\n",
    "#\n",
    "from exobuilder.data.exostorage import EXOStorage\n",
    "from scripts.settings import *\n",
    "\n",
    "storage = EXOStorage(MONGO_CONNSTR, MONGO_EXO_DB)\n",
    "\n",
    "\n",
    "\n",
    "# Loading V1 and V2 alphas\n",
    "alphas_list = SmartCampaignBase.get_alphas_list_from_settings(CAMPAIGN_DICT)\n",
    "alphas_series_dict = storage.swarms_data(alphas_list, load_v2_alphas=True)\n",
    "df_alphas_equities = pd.DataFrame({k: v['swarm_series']['equity'] for k,v in alphas_series_dict.items()})\n"
   ]
  },
  {
   "cell_type": "markdown",
   "metadata": {},
   "source": [
    "# Backtesting"
   ]
  },
  {
   "cell_type": "code",
   "execution_count": 9,
   "metadata": {
    "collapsed": false
   },
   "outputs": [],
   "source": [
    "#\n",
    "# Init Smart Campaign\n",
    "#\n",
    "scmp = SmartCampaignBase(CAMPAIGN_DICT, df_alphas_equities)\n",
    "\n",
    "BACKTESTER_SETTINGS = {\n",
    "    'start_date': datetime.datetime(2014, 1, 1),\n",
    "    'initial_capital': 50000,\n",
    "    'target_risk_percent': 0.01,    \n",
    "}\n",
    "\n",
    "bt_dict = scmp.backtest(**BACKTESTER_SETTINGS)"
   ]
  },
  {
   "cell_type": "code",
   "execution_count": null,
   "metadata": {
    "collapsed": false
   },
   "outputs": [
    {
     "name": "stdout",
     "output_type": "stream",
     "text": [
      "                                 MM             Adj Plain      Adj No Reinv   Simple Sum  \n",
      "NetProfit $                           7597.67        7597.67        8174.37        4376.89\n",
      "NetProfit %                            15.20%         15.20%         16.35%          8.75%\n",
      "\n",
      "MaxDD $                             -20352.98      -20352.98      -14546.31       -5667.86\n",
      "MaxDD %                               -27.02%        -27.02%        -20.97%         -9.69%\n",
      "\n",
      "MaxATR $                               640.88         640.88         543.64         197.99\n",
      "Q95% ATR $                             622.76         622.76         530.31         189.64\n",
      "Avg ATR $                              548.91         548.91         456.51         165.15\n",
      "\n",
      "MaxATR %                                1.15%          1.15%          1.05%          0.36%\n",
      "Q95% ATR %                              1.07%          1.07%          0.98%          0.35%\n",
      "Avg ATR %                               0.90%          0.90%          0.77%          0.30%\n",
      "\n"
     ]
    }
   ],
   "source": [
    "figsize(15, 10)\n",
    "scmp.report(bt_dict)"
   ]
  },
  {
   "cell_type": "code",
   "execution_count": null,
   "metadata": {
    "collapsed": true
   },
   "outputs": [],
   "source": []
  },
  {
   "cell_type": "code",
   "execution_count": null,
   "metadata": {
    "collapsed": true
   },
   "outputs": [],
   "source": []
  }
 ],
 "metadata": {
  "anaconda-cloud": {},
  "kernelspec": {
   "display_name": "Python [Root]",
   "language": "python",
   "name": "Python [Root]"
  },
  "language_info": {
   "codemirror_mode": {
    "name": "ipython",
    "version": 3
   },
   "file_extension": ".py",
   "mimetype": "text/x-python",
   "name": "python",
   "nbconvert_exporter": "python",
   "pygments_lexer": "ipython3",
   "version": "3.5.2"
  }
 },
 "nbformat": 4,
 "nbformat_minor": 0
}
